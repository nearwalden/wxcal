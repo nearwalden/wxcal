{
 "cells": [
  {
   "cell_type": "code",
   "execution_count": 1,
   "metadata": {},
   "outputs": [],
   "source": [
    "import xarray as xr"
   ]
  },
  {
   "cell_type": "code",
   "execution_count": 1,
   "metadata": {},
   "outputs": [],
   "source": [
    "import pandas as p"
   ]
  },
  {
   "cell_type": "code",
   "execution_count": 3,
   "metadata": {},
   "outputs": [],
   "source": [
    "import berk"
   ]
  },
  {
   "cell_type": "code",
   "execution_count": 42,
   "metadata": {},
   "outputs": [],
   "source": [
    "import minmax"
   ]
  },
  {
   "cell_type": "code",
   "execution_count": 44,
   "metadata": {},
   "outputs": [],
   "source": [
    "import files"
   ]
  },
  {
   "cell_type": "code",
   "execution_count": 2,
   "metadata": {},
   "outputs": [],
   "source": [
    "import importlib"
   ]
  },
  {
   "cell_type": "code",
   "execution_count": 46,
   "metadata": {},
   "outputs": [
    {
     "data": {
      "text/plain": [
       "<module 'minmax' from '/Users/dd/gitcode/wxcal/minmax.py'>"
      ]
     },
     "execution_count": 46,
     "metadata": {},
     "output_type": "execute_result"
    }
   ],
   "source": [
    "importlib.reload(minmax)"
   ]
  },
  {
   "cell_type": "code",
   "execution_count": 48,
   "metadata": {},
   "outputs": [
    {
     "name": "stdout",
     "output_type": "stream",
     "text": [
      "processed 25N_114W\n",
      "processed 25N_109W\n",
      "processed 25N_104W\n",
      "processed 25N_99W\n",
      "processed 25N_84W\n",
      "processed 30N_119W\n",
      "processed 30N_114W\n",
      "processed 30N_109W\n",
      "processed 30N_104W\n",
      "processed 30N_99W\n",
      "processed 30N_94W\n",
      "processed 30N_89W\n",
      "processed 30N_84W\n",
      "processed 30N_79W\n",
      "processed 35N_119W\n",
      "processed 35N_114W\n",
      "processed 35N_109W\n",
      "processed 35N_104W\n",
      "processed 35N_99W\n",
      "processed 35N_94W\n",
      "processed 35N_89W\n",
      "processed 35N_84W\n",
      "processed 35N_79W\n",
      "processed 40N_119W\n",
      "processed 40N_114W\n",
      "processed 40N_109W\n",
      "processed 40N_104W\n",
      "processed 40N_99W\n",
      "processed 40N_94W\n",
      "processed 40N_89W\n",
      "processed 40N_84W\n",
      "processed 40N_79W\n",
      "processed 40N_74W\n",
      "processed 40N_69W\n",
      "processed 45N_119W\n",
      "processed 45N_114W\n",
      "processed 45N_109W\n",
      "processed 45N_104W\n",
      "processed 45N_99W\n",
      "processed 45N_94W\n",
      "processed 45N_89W\n",
      "processed 45N_84W\n",
      "processed 45N_79W\n",
      "processed 45N_74W\n",
      "processed 45N_69W\n"
     ]
    }
   ],
   "source": [
    "minmax.max_temp_day()"
   ]
  },
  {
   "cell_type": "code",
   "execution_count": 5,
   "metadata": {},
   "outputs": [],
   "source": [
    "ds = xr.open_dataset('daily-1deg-sep2020/Complete_TAVG_Daily_LatLong1_2000.nc')"
   ]
  },
  {
   "cell_type": "code",
   "execution_count": 8,
   "metadata": {},
   "outputs": [
    {
     "data": {
      "text/html": [
       "<div><svg style=\"position: absolute; width: 0; height: 0; overflow: hidden\">\n",
       "<defs>\n",
       "<symbol id=\"icon-database\" viewBox=\"0 0 32 32\">\n",
       "<path d=\"M16 0c-8.837 0-16 2.239-16 5v4c0 2.761 7.163 5 16 5s16-2.239 16-5v-4c0-2.761-7.163-5-16-5z\"></path>\n",
       "<path d=\"M16 17c-8.837 0-16-2.239-16-5v6c0 2.761 7.163 5 16 5s16-2.239 16-5v-6c0 2.761-7.163 5-16 5z\"></path>\n",
       "<path d=\"M16 26c-8.837 0-16-2.239-16-5v6c0 2.761 7.163 5 16 5s16-2.239 16-5v-6c0 2.761-7.163 5-16 5z\"></path>\n",
       "</symbol>\n",
       "<symbol id=\"icon-file-text2\" viewBox=\"0 0 32 32\">\n",
       "<path d=\"M28.681 7.159c-0.694-0.947-1.662-2.053-2.724-3.116s-2.169-2.030-3.116-2.724c-1.612-1.182-2.393-1.319-2.841-1.319h-15.5c-1.378 0-2.5 1.121-2.5 2.5v27c0 1.378 1.122 2.5 2.5 2.5h23c1.378 0 2.5-1.122 2.5-2.5v-19.5c0-0.448-0.137-1.23-1.319-2.841zM24.543 5.457c0.959 0.959 1.712 1.825 2.268 2.543h-4.811v-4.811c0.718 0.556 1.584 1.309 2.543 2.268zM28 29.5c0 0.271-0.229 0.5-0.5 0.5h-23c-0.271 0-0.5-0.229-0.5-0.5v-27c0-0.271 0.229-0.5 0.5-0.5 0 0 15.499-0 15.5 0v7c0 0.552 0.448 1 1 1h7v19.5z\"></path>\n",
       "<path d=\"M23 26h-14c-0.552 0-1-0.448-1-1s0.448-1 1-1h14c0.552 0 1 0.448 1 1s-0.448 1-1 1z\"></path>\n",
       "<path d=\"M23 22h-14c-0.552 0-1-0.448-1-1s0.448-1 1-1h14c0.552 0 1 0.448 1 1s-0.448 1-1 1z\"></path>\n",
       "<path d=\"M23 18h-14c-0.552 0-1-0.448-1-1s0.448-1 1-1h14c0.552 0 1 0.448 1 1s-0.448 1-1 1z\"></path>\n",
       "</symbol>\n",
       "</defs>\n",
       "</svg>\n",
       "<style>/* CSS stylesheet for displaying xarray objects in jupyterlab.\n",
       " *\n",
       " */\n",
       "\n",
       ":root {\n",
       "  --xr-font-color0: var(--jp-content-font-color0, rgba(0, 0, 0, 1));\n",
       "  --xr-font-color2: var(--jp-content-font-color2, rgba(0, 0, 0, 0.54));\n",
       "  --xr-font-color3: var(--jp-content-font-color3, rgba(0, 0, 0, 0.38));\n",
       "  --xr-border-color: var(--jp-border-color2, #e0e0e0);\n",
       "  --xr-disabled-color: var(--jp-layout-color3, #bdbdbd);\n",
       "  --xr-background-color: var(--jp-layout-color0, white);\n",
       "  --xr-background-color-row-even: var(--jp-layout-color1, white);\n",
       "  --xr-background-color-row-odd: var(--jp-layout-color2, #eeeeee);\n",
       "}\n",
       "\n",
       "html[theme=dark],\n",
       "body.vscode-dark {\n",
       "  --xr-font-color0: rgba(255, 255, 255, 1);\n",
       "  --xr-font-color2: rgba(255, 255, 255, 0.54);\n",
       "  --xr-font-color3: rgba(255, 255, 255, 0.38);\n",
       "  --xr-border-color: #1F1F1F;\n",
       "  --xr-disabled-color: #515151;\n",
       "  --xr-background-color: #111111;\n",
       "  --xr-background-color-row-even: #111111;\n",
       "  --xr-background-color-row-odd: #313131;\n",
       "}\n",
       "\n",
       ".xr-wrap {\n",
       "  display: block;\n",
       "  min-width: 300px;\n",
       "  max-width: 700px;\n",
       "}\n",
       "\n",
       ".xr-text-repr-fallback {\n",
       "  /* fallback to plain text repr when CSS is not injected (untrusted notebook) */\n",
       "  display: none;\n",
       "}\n",
       "\n",
       ".xr-header {\n",
       "  padding-top: 6px;\n",
       "  padding-bottom: 6px;\n",
       "  margin-bottom: 4px;\n",
       "  border-bottom: solid 1px var(--xr-border-color);\n",
       "}\n",
       "\n",
       ".xr-header > div,\n",
       ".xr-header > ul {\n",
       "  display: inline;\n",
       "  margin-top: 0;\n",
       "  margin-bottom: 0;\n",
       "}\n",
       "\n",
       ".xr-obj-type,\n",
       ".xr-array-name {\n",
       "  margin-left: 2px;\n",
       "  margin-right: 10px;\n",
       "}\n",
       "\n",
       ".xr-obj-type {\n",
       "  color: var(--xr-font-color2);\n",
       "}\n",
       "\n",
       ".xr-sections {\n",
       "  padding-left: 0 !important;\n",
       "  display: grid;\n",
       "  grid-template-columns: 150px auto auto 1fr 20px 20px;\n",
       "}\n",
       "\n",
       ".xr-section-item {\n",
       "  display: contents;\n",
       "}\n",
       "\n",
       ".xr-section-item input {\n",
       "  display: none;\n",
       "}\n",
       "\n",
       ".xr-section-item input + label {\n",
       "  color: var(--xr-disabled-color);\n",
       "}\n",
       "\n",
       ".xr-section-item input:enabled + label {\n",
       "  cursor: pointer;\n",
       "  color: var(--xr-font-color2);\n",
       "}\n",
       "\n",
       ".xr-section-item input:enabled + label:hover {\n",
       "  color: var(--xr-font-color0);\n",
       "}\n",
       "\n",
       ".xr-section-summary {\n",
       "  grid-column: 1;\n",
       "  color: var(--xr-font-color2);\n",
       "  font-weight: 500;\n",
       "}\n",
       "\n",
       ".xr-section-summary > span {\n",
       "  display: inline-block;\n",
       "  padding-left: 0.5em;\n",
       "}\n",
       "\n",
       ".xr-section-summary-in:disabled + label {\n",
       "  color: var(--xr-font-color2);\n",
       "}\n",
       "\n",
       ".xr-section-summary-in + label:before {\n",
       "  display: inline-block;\n",
       "  content: '►';\n",
       "  font-size: 11px;\n",
       "  width: 15px;\n",
       "  text-align: center;\n",
       "}\n",
       "\n",
       ".xr-section-summary-in:disabled + label:before {\n",
       "  color: var(--xr-disabled-color);\n",
       "}\n",
       "\n",
       ".xr-section-summary-in:checked + label:before {\n",
       "  content: '▼';\n",
       "}\n",
       "\n",
       ".xr-section-summary-in:checked + label > span {\n",
       "  display: none;\n",
       "}\n",
       "\n",
       ".xr-section-summary,\n",
       ".xr-section-inline-details {\n",
       "  padding-top: 4px;\n",
       "  padding-bottom: 4px;\n",
       "}\n",
       "\n",
       ".xr-section-inline-details {\n",
       "  grid-column: 2 / -1;\n",
       "}\n",
       "\n",
       ".xr-section-details {\n",
       "  display: none;\n",
       "  grid-column: 1 / -1;\n",
       "  margin-bottom: 5px;\n",
       "}\n",
       "\n",
       ".xr-section-summary-in:checked ~ .xr-section-details {\n",
       "  display: contents;\n",
       "}\n",
       "\n",
       ".xr-array-wrap {\n",
       "  grid-column: 1 / -1;\n",
       "  display: grid;\n",
       "  grid-template-columns: 20px auto;\n",
       "}\n",
       "\n",
       ".xr-array-wrap > label {\n",
       "  grid-column: 1;\n",
       "  vertical-align: top;\n",
       "}\n",
       "\n",
       ".xr-preview {\n",
       "  color: var(--xr-font-color3);\n",
       "}\n",
       "\n",
       ".xr-array-preview,\n",
       ".xr-array-data {\n",
       "  padding: 0 5px !important;\n",
       "  grid-column: 2;\n",
       "}\n",
       "\n",
       ".xr-array-data,\n",
       ".xr-array-in:checked ~ .xr-array-preview {\n",
       "  display: none;\n",
       "}\n",
       "\n",
       ".xr-array-in:checked ~ .xr-array-data,\n",
       ".xr-array-preview {\n",
       "  display: inline-block;\n",
       "}\n",
       "\n",
       ".xr-dim-list {\n",
       "  display: inline-block !important;\n",
       "  list-style: none;\n",
       "  padding: 0 !important;\n",
       "  margin: 0;\n",
       "}\n",
       "\n",
       ".xr-dim-list li {\n",
       "  display: inline-block;\n",
       "  padding: 0;\n",
       "  margin: 0;\n",
       "}\n",
       "\n",
       ".xr-dim-list:before {\n",
       "  content: '(';\n",
       "}\n",
       "\n",
       ".xr-dim-list:after {\n",
       "  content: ')';\n",
       "}\n",
       "\n",
       ".xr-dim-list li:not(:last-child):after {\n",
       "  content: ',';\n",
       "  padding-right: 5px;\n",
       "}\n",
       "\n",
       ".xr-has-index {\n",
       "  font-weight: bold;\n",
       "}\n",
       "\n",
       ".xr-var-list,\n",
       ".xr-var-item {\n",
       "  display: contents;\n",
       "}\n",
       "\n",
       ".xr-var-item > div,\n",
       ".xr-var-item label,\n",
       ".xr-var-item > .xr-var-name span {\n",
       "  background-color: var(--xr-background-color-row-even);\n",
       "  margin-bottom: 0;\n",
       "}\n",
       "\n",
       ".xr-var-item > .xr-var-name:hover span {\n",
       "  padding-right: 5px;\n",
       "}\n",
       "\n",
       ".xr-var-list > li:nth-child(odd) > div,\n",
       ".xr-var-list > li:nth-child(odd) > label,\n",
       ".xr-var-list > li:nth-child(odd) > .xr-var-name span {\n",
       "  background-color: var(--xr-background-color-row-odd);\n",
       "}\n",
       "\n",
       ".xr-var-name {\n",
       "  grid-column: 1;\n",
       "}\n",
       "\n",
       ".xr-var-dims {\n",
       "  grid-column: 2;\n",
       "}\n",
       "\n",
       ".xr-var-dtype {\n",
       "  grid-column: 3;\n",
       "  text-align: right;\n",
       "  color: var(--xr-font-color2);\n",
       "}\n",
       "\n",
       ".xr-var-preview {\n",
       "  grid-column: 4;\n",
       "}\n",
       "\n",
       ".xr-var-name,\n",
       ".xr-var-dims,\n",
       ".xr-var-dtype,\n",
       ".xr-preview,\n",
       ".xr-attrs dt {\n",
       "  white-space: nowrap;\n",
       "  overflow: hidden;\n",
       "  text-overflow: ellipsis;\n",
       "  padding-right: 10px;\n",
       "}\n",
       "\n",
       ".xr-var-name:hover,\n",
       ".xr-var-dims:hover,\n",
       ".xr-var-dtype:hover,\n",
       ".xr-attrs dt:hover {\n",
       "  overflow: visible;\n",
       "  width: auto;\n",
       "  z-index: 1;\n",
       "}\n",
       "\n",
       ".xr-var-attrs,\n",
       ".xr-var-data {\n",
       "  display: none;\n",
       "  background-color: var(--xr-background-color) !important;\n",
       "  padding-bottom: 5px !important;\n",
       "}\n",
       "\n",
       ".xr-var-attrs-in:checked ~ .xr-var-attrs,\n",
       ".xr-var-data-in:checked ~ .xr-var-data {\n",
       "  display: block;\n",
       "}\n",
       "\n",
       ".xr-var-data > table {\n",
       "  float: right;\n",
       "}\n",
       "\n",
       ".xr-var-name span,\n",
       ".xr-var-data,\n",
       ".xr-attrs {\n",
       "  padding-left: 25px !important;\n",
       "}\n",
       "\n",
       ".xr-attrs,\n",
       ".xr-var-attrs,\n",
       ".xr-var-data {\n",
       "  grid-column: 1 / -1;\n",
       "}\n",
       "\n",
       "dl.xr-attrs {\n",
       "  padding: 0;\n",
       "  margin: 0;\n",
       "  display: grid;\n",
       "  grid-template-columns: 125px auto;\n",
       "}\n",
       "\n",
       ".xr-attrs dt, dd {\n",
       "  padding: 0;\n",
       "  margin: 0;\n",
       "  float: left;\n",
       "  padding-right: 10px;\n",
       "  width: auto;\n",
       "}\n",
       "\n",
       ".xr-attrs dt {\n",
       "  font-weight: normal;\n",
       "  grid-column: 1;\n",
       "}\n",
       "\n",
       ".xr-attrs dt:hover span {\n",
       "  display: inline-block;\n",
       "  background: var(--xr-background-color);\n",
       "  padding-right: 10px;\n",
       "}\n",
       "\n",
       ".xr-attrs dd {\n",
       "  grid-column: 2;\n",
       "  white-space: pre-wrap;\n",
       "  word-break: break-all;\n",
       "}\n",
       "\n",
       ".xr-icon-database,\n",
       ".xr-icon-file-text2 {\n",
       "  display: inline-block;\n",
       "  vertical-align: middle;\n",
       "  width: 1em;\n",
       "  height: 1.5em !important;\n",
       "  stroke-width: 0;\n",
       "  stroke: currentColor;\n",
       "  fill: currentColor;\n",
       "}\n",
       "</style><pre class='xr-text-repr-fallback'>&lt;xarray.Dataset&gt;\n",
       "Dimensions:      (day_number: 365, latitude: 180, longitude: 360, time: 3653)\n",
       "Coordinates:\n",
       "  * longitude    (longitude) float32 -179.5 -178.5 -177.5 ... 177.5 178.5 179.5\n",
       "  * latitude     (latitude) float32 -89.5 -88.5 -87.5 -86.5 ... 87.5 88.5 89.5\n",
       "Dimensions without coordinates: day_number, time\n",
       "Data variables:\n",
       "    date_number  (time) float64 2e+03 2e+03 2e+03 ... 2.01e+03 2.01e+03 2.01e+03\n",
       "    year         (time) float64 2e+03 2e+03 2e+03 ... 2.009e+03 2.009e+03\n",
       "    month        (time) float64 1.0 1.0 1.0 1.0 1.0 ... 12.0 12.0 12.0 12.0 12.0\n",
       "    day          (time) float64 1.0 2.0 3.0 4.0 5.0 ... 27.0 28.0 29.0 30.0 31.0\n",
       "    day_of_year  (time) float64 1.0 2.0 3.0 4.0 5.0 ... 362.0 363.0 364.0 365.0\n",
       "    land_mask    (latitude, longitude) float64 1.0 1.0 1.0 1.0 ... 0.0 0.0 0.0\n",
       "    temperature  (time, latitude, longitude) float32 ...\n",
       "    climatology  (day_number, latitude, longitude) float32 ...\n",
       "Attributes:\n",
       "    Conventions:     Berkeley Earth Internal Convention (based on CF-1.5)\n",
       "    title:           Gridded Berkeley Earth Surface Temperature Anomaly Field\n",
       "    history:         17-Jun-2018 21:13:13\n",
       "    institution:     Berkeley Earth Surface Temperature Project\n",
       "    source_history:  17-Jun-2018 16:15:15\n",
       "    comment:         This file contains surface temperature anomaly field gri...</pre><div class='xr-wrap' hidden><div class='xr-header'><div class='xr-obj-type'>xarray.Dataset</div></div><ul class='xr-sections'><li class='xr-section-item'><input id='section-204994ff-430f-411e-9d59-2b28f87c81cf' class='xr-section-summary-in' type='checkbox' disabled ><label for='section-204994ff-430f-411e-9d59-2b28f87c81cf' class='xr-section-summary'  title='Expand/collapse section'>Dimensions:</label><div class='xr-section-inline-details'><ul class='xr-dim-list'><li><span>day_number</span>: 365</li><li><span class='xr-has-index'>latitude</span>: 180</li><li><span class='xr-has-index'>longitude</span>: 360</li><li><span>time</span>: 3653</li></ul></div><div class='xr-section-details'></div></li><li class='xr-section-item'><input id='section-08c7eab7-27ee-4c75-9398-ca5e5feb60fc' class='xr-section-summary-in' type='checkbox'  checked><label for='section-08c7eab7-27ee-4c75-9398-ca5e5feb60fc' class='xr-section-summary' >Coordinates: <span>(2)</span></label><div class='xr-section-inline-details'></div><div class='xr-section-details'><ul class='xr-var-list'><li class='xr-var-item'><div class='xr-var-name'><span class='xr-has-index'>longitude</span></div><div class='xr-var-dims'>(longitude)</div><div class='xr-var-dtype'>float32</div><div class='xr-var-preview xr-preview'>-179.5 -178.5 ... 178.5 179.5</div><input id='attrs-9652ae56-9bee-43bd-b9db-9ba19b992e26' class='xr-var-attrs-in' type='checkbox' ><label for='attrs-9652ae56-9bee-43bd-b9db-9ba19b992e26' title='Show/Hide attributes'><svg class='icon xr-icon-file-text2'><use xlink:href='#icon-file-text2'></use></svg></label><input id='data-6977e731-c32a-48df-902e-44d586fc0cbe' class='xr-var-data-in' type='checkbox'><label for='data-6977e731-c32a-48df-902e-44d586fc0cbe' title='Show/Hide data repr'><svg class='icon xr-icon-database'><use xlink:href='#icon-database'></use></svg></label><div class='xr-var-attrs'><dl class='xr-attrs'><dt><span>units :</span></dt><dd>degrees_east</dd><dt><span>standard_name :</span></dt><dd>longitude</dd><dt><span>long_name :</span></dt><dd>Longitude</dd></dl></div><div class='xr-var-data'><pre>array([-179.5, -178.5, -177.5, ...,  177.5,  178.5,  179.5], dtype=float32)</pre></div></li><li class='xr-var-item'><div class='xr-var-name'><span class='xr-has-index'>latitude</span></div><div class='xr-var-dims'>(latitude)</div><div class='xr-var-dtype'>float32</div><div class='xr-var-preview xr-preview'>-89.5 -88.5 -87.5 ... 88.5 89.5</div><input id='attrs-7cf2be93-c491-49e1-9def-460b5146ab00' class='xr-var-attrs-in' type='checkbox' ><label for='attrs-7cf2be93-c491-49e1-9def-460b5146ab00' title='Show/Hide attributes'><svg class='icon xr-icon-file-text2'><use xlink:href='#icon-file-text2'></use></svg></label><input id='data-c213f50e-ae57-4516-bb7e-965b1fc32d97' class='xr-var-data-in' type='checkbox'><label for='data-c213f50e-ae57-4516-bb7e-965b1fc32d97' title='Show/Hide data repr'><svg class='icon xr-icon-database'><use xlink:href='#icon-database'></use></svg></label><div class='xr-var-attrs'><dl class='xr-attrs'><dt><span>units :</span></dt><dd>degrees_north</dd><dt><span>standard_name :</span></dt><dd>latitude</dd><dt><span>long_name :</span></dt><dd>Latitude</dd></dl></div><div class='xr-var-data'><pre>array([-89.5, -88.5, -87.5, -86.5, -85.5, -84.5, -83.5, -82.5, -81.5, -80.5,\n",
       "       -79.5, -78.5, -77.5, -76.5, -75.5, -74.5, -73.5, -72.5, -71.5, -70.5,\n",
       "       -69.5, -68.5, -67.5, -66.5, -65.5, -64.5, -63.5, -62.5, -61.5, -60.5,\n",
       "       -59.5, -58.5, -57.5, -56.5, -55.5, -54.5, -53.5, -52.5, -51.5, -50.5,\n",
       "       -49.5, -48.5, -47.5, -46.5, -45.5, -44.5, -43.5, -42.5, -41.5, -40.5,\n",
       "       -39.5, -38.5, -37.5, -36.5, -35.5, -34.5, -33.5, -32.5, -31.5, -30.5,\n",
       "       -29.5, -28.5, -27.5, -26.5, -25.5, -24.5, -23.5, -22.5, -21.5, -20.5,\n",
       "       -19.5, -18.5, -17.5, -16.5, -15.5, -14.5, -13.5, -12.5, -11.5, -10.5,\n",
       "        -9.5,  -8.5,  -7.5,  -6.5,  -5.5,  -4.5,  -3.5,  -2.5,  -1.5,  -0.5,\n",
       "         0.5,   1.5,   2.5,   3.5,   4.5,   5.5,   6.5,   7.5,   8.5,   9.5,\n",
       "        10.5,  11.5,  12.5,  13.5,  14.5,  15.5,  16.5,  17.5,  18.5,  19.5,\n",
       "        20.5,  21.5,  22.5,  23.5,  24.5,  25.5,  26.5,  27.5,  28.5,  29.5,\n",
       "        30.5,  31.5,  32.5,  33.5,  34.5,  35.5,  36.5,  37.5,  38.5,  39.5,\n",
       "        40.5,  41.5,  42.5,  43.5,  44.5,  45.5,  46.5,  47.5,  48.5,  49.5,\n",
       "        50.5,  51.5,  52.5,  53.5,  54.5,  55.5,  56.5,  57.5,  58.5,  59.5,\n",
       "        60.5,  61.5,  62.5,  63.5,  64.5,  65.5,  66.5,  67.5,  68.5,  69.5,\n",
       "        70.5,  71.5,  72.5,  73.5,  74.5,  75.5,  76.5,  77.5,  78.5,  79.5,\n",
       "        80.5,  81.5,  82.5,  83.5,  84.5,  85.5,  86.5,  87.5,  88.5,  89.5],\n",
       "      dtype=float32)</pre></div></li></ul></div></li><li class='xr-section-item'><input id='section-15a8401e-7622-4a80-ae1e-fee4d3b5d7ea' class='xr-section-summary-in' type='checkbox'  checked><label for='section-15a8401e-7622-4a80-ae1e-fee4d3b5d7ea' class='xr-section-summary' >Data variables: <span>(8)</span></label><div class='xr-section-inline-details'></div><div class='xr-section-details'><ul class='xr-var-list'><li class='xr-var-item'><div class='xr-var-name'><span>date_number</span></div><div class='xr-var-dims'>(time)</div><div class='xr-var-dtype'>float64</div><div class='xr-var-preview xr-preview'>...</div><input id='attrs-569bb5d5-e898-4bf0-b51e-4642f4e20495' class='xr-var-attrs-in' type='checkbox' ><label for='attrs-569bb5d5-e898-4bf0-b51e-4642f4e20495' title='Show/Hide attributes'><svg class='icon xr-icon-file-text2'><use xlink:href='#icon-file-text2'></use></svg></label><input id='data-448f9c9b-2145-4081-9f2e-a4d44c33050b' class='xr-var-data-in' type='checkbox'><label for='data-448f9c9b-2145-4081-9f2e-a4d44c33050b' title='Show/Hide data repr'><svg class='icon xr-icon-database'><use xlink:href='#icon-database'></use></svg></label><div class='xr-var-attrs'><dl class='xr-attrs'><dt><span>units :</span></dt><dd>year A.D.</dd><dt><span>long_name :</span></dt><dd>Date Number</dd></dl></div><div class='xr-var-data'><pre>array([2000.001366, 2000.004098, 2000.006831, ..., 2009.993151, 2009.99589 ,\n",
       "       2009.99863 ])</pre></div></li><li class='xr-var-item'><div class='xr-var-name'><span>year</span></div><div class='xr-var-dims'>(time)</div><div class='xr-var-dtype'>float64</div><div class='xr-var-preview xr-preview'>...</div><input id='attrs-b24cbd24-aa27-44ad-a84d-dc39e875ef43' class='xr-var-attrs-in' type='checkbox' ><label for='attrs-b24cbd24-aa27-44ad-a84d-dc39e875ef43' title='Show/Hide attributes'><svg class='icon xr-icon-file-text2'><use xlink:href='#icon-file-text2'></use></svg></label><input id='data-23b973df-26b6-43d9-9534-ab58a488d52e' class='xr-var-data-in' type='checkbox'><label for='data-23b973df-26b6-43d9-9534-ab58a488d52e' title='Show/Hide data repr'><svg class='icon xr-icon-database'><use xlink:href='#icon-database'></use></svg></label><div class='xr-var-attrs'><dl class='xr-attrs'><dt><span>units :</span></dt><dd>year A.D.</dd><dt><span>standard_name :</span></dt><dd>year</dd><dt><span>long_name :</span></dt><dd>Year</dd></dl></div><div class='xr-var-data'><pre>array([2000., 2000., 2000., ..., 2009., 2009., 2009.])</pre></div></li><li class='xr-var-item'><div class='xr-var-name'><span>month</span></div><div class='xr-var-dims'>(time)</div><div class='xr-var-dtype'>float64</div><div class='xr-var-preview xr-preview'>...</div><input id='attrs-1150c574-3714-41df-89c8-5667dad3da83' class='xr-var-attrs-in' type='checkbox' ><label for='attrs-1150c574-3714-41df-89c8-5667dad3da83' title='Show/Hide attributes'><svg class='icon xr-icon-file-text2'><use xlink:href='#icon-file-text2'></use></svg></label><input id='data-ae165e84-b563-4282-84cf-aa9ebae01f1f' class='xr-var-data-in' type='checkbox'><label for='data-ae165e84-b563-4282-84cf-aa9ebae01f1f' title='Show/Hide data repr'><svg class='icon xr-icon-database'><use xlink:href='#icon-database'></use></svg></label><div class='xr-var-attrs'><dl class='xr-attrs'><dt><span>units :</span></dt><dd>month number</dd><dt><span>standard_name :</span></dt><dd>month</dd><dt><span>long_name :</span></dt><dd>Month</dd></dl></div><div class='xr-var-data'><pre>array([ 1.,  1.,  1., ..., 12., 12., 12.])</pre></div></li><li class='xr-var-item'><div class='xr-var-name'><span>day</span></div><div class='xr-var-dims'>(time)</div><div class='xr-var-dtype'>float64</div><div class='xr-var-preview xr-preview'>...</div><input id='attrs-edc07451-bbe5-412a-883d-173e95e907e2' class='xr-var-attrs-in' type='checkbox' ><label for='attrs-edc07451-bbe5-412a-883d-173e95e907e2' title='Show/Hide attributes'><svg class='icon xr-icon-file-text2'><use xlink:href='#icon-file-text2'></use></svg></label><input id='data-33bbb48a-c28b-48e8-86cd-61cfeb2bdec6' class='xr-var-data-in' type='checkbox'><label for='data-33bbb48a-c28b-48e8-86cd-61cfeb2bdec6' title='Show/Hide data repr'><svg class='icon xr-icon-database'><use xlink:href='#icon-database'></use></svg></label><div class='xr-var-attrs'><dl class='xr-attrs'><dt><span>units :</span></dt><dd>day of month</dd><dt><span>standard_name :</span></dt><dd>day</dd><dt><span>long_name :</span></dt><dd>Day of Month</dd></dl></div><div class='xr-var-data'><pre>array([ 1.,  2.,  3., ..., 29., 30., 31.])</pre></div></li><li class='xr-var-item'><div class='xr-var-name'><span>day_of_year</span></div><div class='xr-var-dims'>(time)</div><div class='xr-var-dtype'>float64</div><div class='xr-var-preview xr-preview'>...</div><input id='attrs-5a2fee6a-4a8f-4445-9821-bbf7b715e688' class='xr-var-attrs-in' type='checkbox' ><label for='attrs-5a2fee6a-4a8f-4445-9821-bbf7b715e688' title='Show/Hide attributes'><svg class='icon xr-icon-file-text2'><use xlink:href='#icon-file-text2'></use></svg></label><input id='data-015b4f39-b917-41b9-9d69-dd70aa2ffc16' class='xr-var-data-in' type='checkbox'><label for='data-015b4f39-b917-41b9-9d69-dd70aa2ffc16' title='Show/Hide data repr'><svg class='icon xr-icon-database'><use xlink:href='#icon-database'></use></svg></label><div class='xr-var-attrs'><dl class='xr-attrs'><dt><span>units :</span></dt><dd>day of year</dd><dt><span>standard_name :</span></dt><dd>doy</dd><dt><span>long_name :</span></dt><dd>Day of Year</dd></dl></div><div class='xr-var-data'><pre>array([  1.,   2.,   3., ..., 363., 364., 365.])</pre></div></li><li class='xr-var-item'><div class='xr-var-name'><span>land_mask</span></div><div class='xr-var-dims'>(latitude, longitude)</div><div class='xr-var-dtype'>float64</div><div class='xr-var-preview xr-preview'>...</div><input id='attrs-37d028ec-e870-49c2-8d88-0ba6da503a2c' class='xr-var-attrs-in' type='checkbox' ><label for='attrs-37d028ec-e870-49c2-8d88-0ba6da503a2c' title='Show/Hide attributes'><svg class='icon xr-icon-file-text2'><use xlink:href='#icon-file-text2'></use></svg></label><input id='data-7ea280c0-8c2a-4ebd-94cf-ef9de031aef9' class='xr-var-data-in' type='checkbox'><label for='data-7ea280c0-8c2a-4ebd-94cf-ef9de031aef9' title='Show/Hide data repr'><svg class='icon xr-icon-database'><use xlink:href='#icon-database'></use></svg></label><div class='xr-var-attrs'><dl class='xr-attrs'><dt><span>units :</span></dt><dd>none</dd><dt><span>standard_name :</span></dt><dd>land_mask</dd><dt><span>long_name :</span></dt><dd>Land Mask</dd><dt><span>valid_min :</span></dt><dd>0.0</dd><dt><span>valid_max :</span></dt><dd>1.0</dd></dl></div><div class='xr-var-data'><pre>array([[1., 1., 1., ..., 1., 1., 1.],\n",
       "       [1., 1., 1., ..., 1., 1., 1.],\n",
       "       [1., 1., 1., ..., 1., 1., 1.],\n",
       "       ...,\n",
       "       [0., 0., 0., ..., 0., 0., 0.],\n",
       "       [0., 0., 0., ..., 0., 0., 0.],\n",
       "       [0., 0., 0., ..., 0., 0., 0.]])</pre></div></li><li class='xr-var-item'><div class='xr-var-name'><span>temperature</span></div><div class='xr-var-dims'>(time, latitude, longitude)</div><div class='xr-var-dtype'>float32</div><div class='xr-var-preview xr-preview'>...</div><input id='attrs-40805fd6-504f-458f-8653-1d44f783e6aa' class='xr-var-attrs-in' type='checkbox' ><label for='attrs-40805fd6-504f-458f-8653-1d44f783e6aa' title='Show/Hide attributes'><svg class='icon xr-icon-file-text2'><use xlink:href='#icon-file-text2'></use></svg></label><input id='data-4d75c696-42fa-45d4-91f0-a766a1a53128' class='xr-var-data-in' type='checkbox'><label for='data-4d75c696-42fa-45d4-91f0-a766a1a53128' title='Show/Hide data repr'><svg class='icon xr-icon-database'><use xlink:href='#icon-database'></use></svg></label><div class='xr-var-attrs'><dl class='xr-attrs'><dt><span>units :</span></dt><dd>degree C</dd><dt><span>standard_name :</span></dt><dd>surface_temperature_anomaly</dd><dt><span>long_name :</span></dt><dd>Air Surface Temperature Anomaly</dd><dt><span>valid_min :</span></dt><dd>-32.576311608922005</dd><dt><span>valid_max :</span></dt><dd>32.309147095443784</dd></dl></div><div class='xr-var-data'><pre>[236714400 values with dtype=float32]</pre></div></li><li class='xr-var-item'><div class='xr-var-name'><span>climatology</span></div><div class='xr-var-dims'>(day_number, latitude, longitude)</div><div class='xr-var-dtype'>float32</div><div class='xr-var-preview xr-preview'>...</div><input id='attrs-74575377-b49f-4d52-95b4-9e8a0d52cb37' class='xr-var-attrs-in' type='checkbox' ><label for='attrs-74575377-b49f-4d52-95b4-9e8a0d52cb37' title='Show/Hide attributes'><svg class='icon xr-icon-file-text2'><use xlink:href='#icon-file-text2'></use></svg></label><input id='data-a2438372-1a44-4f6e-abcf-b662126cf11c' class='xr-var-data-in' type='checkbox'><label for='data-a2438372-1a44-4f6e-abcf-b662126cf11c' title='Show/Hide data repr'><svg class='icon xr-icon-database'><use xlink:href='#icon-database'></use></svg></label><div class='xr-var-attrs'><dl class='xr-attrs'><dt><span>units :</span></dt><dd>degree C</dd><dt><span>standard_name :</span></dt><dd>surface_temperature_climatology</dd><dt><span>long_name :</span></dt><dd>Air Surface Temperature Climatology (Jan 1951 - Dec 1980)</dd><dt><span>valid_min :</span></dt><dd>-67.27906</dd><dt><span>valid_max :</span></dt><dd>39.349766</dd></dl></div><div class='xr-var-data'><pre>[23652000 values with dtype=float32]</pre></div></li></ul></div></li><li class='xr-section-item'><input id='section-41485f7e-7aa7-4544-b0f8-f76375307626' class='xr-section-summary-in' type='checkbox'  checked><label for='section-41485f7e-7aa7-4544-b0f8-f76375307626' class='xr-section-summary' >Attributes: <span>(6)</span></label><div class='xr-section-inline-details'></div><div class='xr-section-details'><dl class='xr-attrs'><dt><span>Conventions :</span></dt><dd>Berkeley Earth Internal Convention (based on CF-1.5)</dd><dt><span>title :</span></dt><dd>Gridded Berkeley Earth Surface Temperature Anomaly Field</dd><dt><span>history :</span></dt><dd>17-Jun-2018 21:13:13</dd><dt><span>institution :</span></dt><dd>Berkeley Earth Surface Temperature Project</dd><dt><span>source_history :</span></dt><dd>17-Jun-2018 16:15:15</dd><dt><span>comment :</span></dt><dd>This file contains surface temperature anomaly field gridded on a 1� (longitude) by 1� (latitude) grid-box basis.</dd></dl></div></li></ul></div></div>"
      ],
      "text/plain": [
       "<xarray.Dataset>\n",
       "Dimensions:      (day_number: 365, latitude: 180, longitude: 360, time: 3653)\n",
       "Coordinates:\n",
       "  * longitude    (longitude) float32 -179.5 -178.5 -177.5 ... 177.5 178.5 179.5\n",
       "  * latitude     (latitude) float32 -89.5 -88.5 -87.5 -86.5 ... 87.5 88.5 89.5\n",
       "Dimensions without coordinates: day_number, time\n",
       "Data variables:\n",
       "    date_number  (time) float64 ...\n",
       "    year         (time) float64 ...\n",
       "    month        (time) float64 ...\n",
       "    day          (time) float64 ...\n",
       "    day_of_year  (time) float64 ...\n",
       "    land_mask    (latitude, longitude) float64 ...\n",
       "    temperature  (time, latitude, longitude) float32 ...\n",
       "    climatology  (day_number, latitude, longitude) float32 ...\n",
       "Attributes:\n",
       "    Conventions:     Berkeley Earth Internal Convention (based on CF-1.5)\n",
       "    title:           Gridded Berkeley Earth Surface Temperature Anomaly Field\n",
       "    history:         17-Jun-2018 21:13:13\n",
       "    institution:     Berkeley Earth Surface Temperature Project\n",
       "    source_history:  17-Jun-2018 16:15:15\n",
       "    comment:         This file contains surface temperature anomaly field gri..."
      ]
     },
     "execution_count": 8,
     "metadata": {},
     "output_type": "execute_result"
    }
   ],
   "source": [
    "ds"
   ]
  },
  {
   "cell_type": "code",
   "execution_count": 10,
   "metadata": {},
   "outputs": [],
   "source": [
    "dfy = ds['year'].to_dataframe()"
   ]
  },
  {
   "cell_type": "code",
   "execution_count": 11,
   "metadata": {},
   "outputs": [],
   "source": [
    "dfm = ds['month'].to_dataframe()"
   ]
  },
  {
   "cell_type": "code",
   "execution_count": 17,
   "metadata": {},
   "outputs": [],
   "source": [
    "dfd = ds['day_of_year'].to_dataframe()"
   ]
  },
  {
   "cell_type": "code",
   "execution_count": 24,
   "metadata": {},
   "outputs": [
    {
     "data": {
      "text/plain": [
       "'12'"
      ]
     },
     "execution_count": 24,
     "metadata": {},
     "output_type": "execute_result"
    }
   ],
   "source": [
    "\"1234\"[0:2]"
   ]
  },
  {
   "cell_type": "code",
   "execution_count": 9,
   "metadata": {},
   "outputs": [
    {
     "name": "stdout",
     "output_type": "stream",
     "text": [
      "Created file for 40N, 94W. 50555 records.\n"
     ]
    }
   ],
   "source": [
    "berk.extract_loc_25 (40, -94)"
   ]
  },
  {
   "cell_type": "code",
   "execution_count": 10,
   "metadata": {},
   "outputs": [
    {
     "name": "stdout",
     "output_type": "stream",
     "text": [
      "Created file for 25N, 119W. 0 records.\n",
      "Created file for 25N, 114W. 50555 records.\n",
      "Created file for 25N, 109W. 50555 records.\n",
      "Created file for 25N, 104W. 50555 records.\n",
      "Created file for 25N, 99W. 50555 records.\n",
      "Created file for 25N, 94W. 0 records.\n",
      "Created file for 25N, 89W. 0 records.\n",
      "Created file for 25N, 84W. 50555 records.\n",
      "Created file for 25N, 79W. 0 records.\n",
      "Created file for 25N, 74W. 0 records.\n",
      "Created file for 25N, 69W. 0 records.\n",
      "Created file for 25N, 64W. 0 records.\n",
      "Created file for 30N, 119W. 50555 records.\n",
      "Created file for 30N, 114W. 50555 records.\n",
      "Created file for 30N, 109W. 50555 records.\n",
      "Created file for 30N, 104W. 50555 records.\n",
      "Created file for 30N, 99W. 50555 records.\n",
      "Created file for 30N, 94W. 50555 records.\n",
      "Created file for 30N, 89W. 50555 records.\n",
      "Created file for 30N, 84W. 50555 records.\n",
      "Created file for 30N, 79W. 50555 records.\n",
      "Created file for 30N, 74W. 0 records.\n",
      "Created file for 30N, 69W. 0 records.\n",
      "Created file for 30N, 64W. 0 records.\n",
      "Created file for 35N, 119W. 50555 records.\n",
      "Created file for 35N, 114W. 50555 records.\n",
      "Created file for 35N, 109W. 50555 records.\n",
      "Created file for 35N, 104W. 50555 records.\n",
      "Created file for 35N, 99W. 50555 records.\n",
      "Created file for 35N, 94W. 50555 records.\n",
      "Created file for 35N, 89W. 50555 records.\n",
      "Created file for 35N, 84W. 50555 records.\n",
      "Created file for 35N, 79W. 50555 records.\n",
      "Created file for 35N, 74W. 0 records.\n",
      "Created file for 35N, 69W. 0 records.\n",
      "Created file for 35N, 64W. 0 records.\n",
      "Created file for 40N, 119W. 50555 records.\n",
      "Created file for 40N, 114W. 50555 records.\n",
      "Created file for 40N, 109W. 50555 records.\n",
      "Created file for 40N, 104W. 50555 records.\n",
      "Created file for 40N, 99W. 50555 records.\n",
      "Created file for 40N, 94W. 50555 records.\n",
      "Created file for 40N, 89W. 50555 records.\n",
      "Created file for 40N, 84W. 50555 records.\n",
      "Created file for 40N, 79W. 50555 records.\n",
      "Created file for 40N, 74W. 50555 records.\n",
      "Created file for 40N, 69W. 50555 records.\n",
      "Created file for 40N, 64W. 0 records.\n",
      "Created file for 45N, 119W. 50555 records.\n",
      "Created file for 45N, 114W. 50555 records.\n",
      "Created file for 45N, 109W. 50555 records.\n",
      "Created file for 45N, 104W. 50555 records.\n",
      "Created file for 45N, 99W. 50555 records.\n",
      "Created file for 45N, 94W. 50555 records.\n",
      "Created file for 45N, 89W. 50555 records.\n",
      "Created file for 45N, 84W. 50555 records.\n",
      "Created file for 45N, 79W. 50555 records.\n",
      "Created file for 45N, 74W. 50555 records.\n",
      "Created file for 45N, 69W. 50555 records.\n",
      "Created file for 45N, 64W. 0 records.\n",
      "All done\n"
     ]
    }
   ],
   "source": [
    "berk.extract_loc_25_all ()"
   ]
  },
  {
   "cell_type": "code",
   "execution_count": 4,
   "metadata": {},
   "outputs": [],
   "source": [
    "df = p.read_csv('/Volumes/data/temperature/daily-1deg-sep2020/TAVG_LL1_all_30N_114W_temp.csv')"
   ]
  },
  {
   "cell_type": "code",
   "execution_count": 12,
   "metadata": {},
   "outputs": [],
   "source": [
    "df2 = df.copy()"
   ]
  },
  {
   "cell_type": "code",
   "execution_count": 13,
   "metadata": {},
   "outputs": [],
   "source": [
    "df2 = df2.sort_values('time')"
   ]
  },
  {
   "cell_type": "code",
   "execution_count": 15,
   "metadata": {},
   "outputs": [],
   "source": [
    "df2['new_year'] = df2['year'].shift(190)"
   ]
  },
  {
   "cell_type": "code",
   "execution_count": 25,
   "metadata": {},
   "outputs": [],
   "source": [
    "df3 = df2.iloc[190:].copy()"
   ]
  },
  {
   "cell_type": "code",
   "execution_count": 26,
   "metadata": {},
   "outputs": [],
   "source": [
    "df3['doy2'] = df['day_of_year']"
   ]
  },
  {
   "cell_type": "code",
   "execution_count": 27,
   "metadata": {},
   "outputs": [],
   "source": [
    "df3.loc[(df3.doy2 < 190), 'doy2'] = df3.doy2 + 365"
   ]
  },
  {
   "cell_type": "code",
   "execution_count": 36,
   "metadata": {},
   "outputs": [],
   "source": [
    "df3 = df3.set_index('doy2')"
   ]
  },
  {
   "cell_type": "code",
   "execution_count": 39,
   "metadata": {},
   "outputs": [],
   "source": [
    "df3g = df3.groupby('new_year')"
   ]
  },
  {
   "cell_type": "code",
   "execution_count": 40,
   "metadata": {},
   "outputs": [
    {
     "data": {
      "text/plain": [
       "new_year\n",
       "1880.0    374.0\n",
       "1881.0    382.0\n",
       "1882.0    386.0\n",
       "1883.0    410.0\n",
       "1884.0    369.0\n",
       "          ...  \n",
       "2013.0    340.0\n",
       "2014.0    367.0\n",
       "2015.0    361.0\n",
       "2016.0    391.0\n",
       "2017.0    356.0\n",
       "Name: 30N_114W, Length: 138, dtype: float64"
      ]
     },
     "execution_count": 40,
     "metadata": {},
     "output_type": "execute_result"
    }
   ],
   "source": [
    "df3g['30N_114W'].idxmin()"
   ]
  },
  {
   "cell_type": "code",
   "execution_count": 17,
   "metadata": {},
   "outputs": [
    {
     "data": {
      "text/plain": [
       "[1, 2]"
      ]
     },
     "execution_count": 17,
     "metadata": {},
     "output_type": "execute_result"
    }
   ],
   "source": [
    "a"
   ]
  },
  {
   "cell_type": "code",
   "execution_count": 10,
   "metadata": {},
   "outputs": [],
   "source": [
    "dfl = ds['land_mask'].to_dataframe()"
   ]
  },
  {
   "cell_type": "code",
   "execution_count": 6,
   "metadata": {},
   "outputs": [],
   "source": [
    "dft = ds['temperature'].to_dataframe()"
   ]
  },
  {
   "cell_type": "code",
   "execution_count": 18,
   "metadata": {},
   "outputs": [],
   "source": [
    "dfd = ds['day_of_year'].to_dataframe()"
   ]
  },
  {
   "cell_type": "code",
   "execution_count": 19,
   "metadata": {},
   "outputs": [],
   "source": [
    "df = dft.join(dfd, 'time')"
   ]
  },
  {
   "cell_type": "code",
   "execution_count": 21,
   "metadata": {},
   "outputs": [],
   "source": [
    "df['day_number'] = df['day_of_year'] - 1"
   ]
  },
  {
   "cell_type": "code",
   "execution_count": 22,
   "metadata": {
    "tags": []
   },
   "outputs": [
    {
     "name": "stdout",
     "output_type": "stream",
     "text": [
      "added day_of_year\n",
      "added day_number\n",
      "reset index for climate data\n",
      "added climatology\n",
      "turned temp into real temp\n"
     ]
    }
   ],
   "source": [
    "df = berk.add_clim_ll1(ds, dft)"
   ]
  },
  {
   "cell_type": "code",
   "execution_count": 8,
   "metadata": {},
   "outputs": [],
   "source": [
    "dft = dft.reset_index()"
   ]
  },
  {
   "cell_type": "code",
   "execution_count": 10,
   "metadata": {},
   "outputs": [
    {
     "data": {
      "text/plain": [
       "236714400"
      ]
     },
     "execution_count": 10,
     "metadata": {},
     "output_type": "execute_result"
    }
   ],
   "source": [
    "len(dft)"
   ]
  },
  {
   "cell_type": "code",
   "execution_count": 16,
   "metadata": {},
   "outputs": [],
   "source": [
    "df = dft [(dft.latitude > 22) & (dft.latitude < 51) ]"
   ]
  },
  {
   "cell_type": "code",
   "execution_count": 14,
   "metadata": {},
   "outputs": [
    {
     "data": {
      "text/plain": [
       "38137320"
      ]
     },
     "execution_count": 14,
     "metadata": {},
     "output_type": "execute_result"
    }
   ],
   "source": [
    "len(df)"
   ]
  },
  {
   "cell_type": "code",
   "execution_count": 17,
   "metadata": {},
   "outputs": [],
   "source": [
    "df = df [(df.longitude > -121) & (df.longitude < -59) ]"
   ]
  },
  {
   "cell_type": "code",
   "execution_count": 18,
   "metadata": {},
   "outputs": [
    {
     "data": {
      "text/plain": [
       "6568094"
      ]
     },
     "execution_count": 18,
     "metadata": {},
     "output_type": "execute_result"
    }
   ],
   "source": [
    "len(df)"
   ]
  },
  {
   "cell_type": "code",
   "execution_count": 22,
   "metadata": {},
   "outputs": [],
   "source": [
    "df= df.set_index(['day_number', 'map_points'])"
   ]
  },
  {
   "cell_type": "code",
   "execution_count": 26,
   "metadata": {},
   "outputs": [],
   "source": [
    "df2 = df.join(dfc)"
   ]
  },
  {
   "cell_type": "code",
   "execution_count": null,
   "metadata": {},
   "outputs": [],
   "source": [
    "df2.to_csv('Complete_TMAX_Daily_EqualArea_temp_20200914.csv')"
   ]
  },
  {
   "cell_type": "code",
   "execution_count": 17,
   "metadata": {},
   "outputs": [
    {
     "data": {
      "text/plain": [
       "20595"
      ]
     },
     "execution_count": 17,
     "metadata": {},
     "output_type": "execute_result"
    }
   ],
   "source": [
    "len(dfl[dfl.land_mask > 0.8])"
   ]
  },
  {
   "cell_type": "code",
   "execution_count": null,
   "metadata": {},
   "outputs": [],
   "source": [
    "df2 = dft.join(dfl)"
   ]
  },
  {
   "cell_type": "code",
   "execution_count": 24,
   "metadata": {},
   "outputs": [],
   "source": [
    "ds2 = xr.open_dataset('Complete_TMAX_Daily_EqualArea.nc')"
   ]
  },
  {
   "cell_type": "code",
   "execution_count": 25,
   "metadata": {},
   "outputs": [
    {
     "data": {
      "text/html": [
       "<div>\n",
       "<style scoped>\n",
       "    .dataframe tbody tr th:only-of-type {\n",
       "        vertical-align: middle;\n",
       "    }\n",
       "\n",
       "    .dataframe tbody tr th {\n",
       "        vertical-align: top;\n",
       "    }\n",
       "\n",
       "    .dataframe thead th {\n",
       "        text-align: right;\n",
       "    }\n",
       "</style>\n",
       "<table border=\"1\" class=\"dataframe\">\n",
       "  <thead>\n",
       "    <tr style=\"text-align: right;\">\n",
       "      <th></th>\n",
       "      <th></th>\n",
       "      <th></th>\n",
       "      <th>time</th>\n",
       "      <th>temperature</th>\n",
       "      <th>climatology</th>\n",
       "    </tr>\n",
       "    <tr>\n",
       "      <th>day_number</th>\n",
       "      <th>latitude</th>\n",
       "      <th>longitude</th>\n",
       "      <th></th>\n",
       "      <th></th>\n",
       "      <th></th>\n",
       "    </tr>\n",
       "  </thead>\n",
       "  <tbody>\n",
       "    <tr>\n",
       "      <th rowspan=\"5\" valign=\"top\">0.0</th>\n",
       "      <th rowspan=\"5\" valign=\"top\">-89.5</th>\n",
       "      <th>-179.5</th>\n",
       "      <td>0</td>\n",
       "      <td>-27.188446</td>\n",
       "      <td>-24.573507</td>\n",
       "    </tr>\n",
       "    <tr>\n",
       "      <th>-179.5</th>\n",
       "      <td>366</td>\n",
       "      <td>-26.214350</td>\n",
       "      <td>-24.573507</td>\n",
       "    </tr>\n",
       "    <tr>\n",
       "      <th>-179.5</th>\n",
       "      <td>731</td>\n",
       "      <td>-23.481075</td>\n",
       "      <td>-24.573507</td>\n",
       "    </tr>\n",
       "    <tr>\n",
       "      <th>-179.5</th>\n",
       "      <td>1096</td>\n",
       "      <td>-25.736414</td>\n",
       "      <td>-24.573507</td>\n",
       "    </tr>\n",
       "    <tr>\n",
       "      <th>-179.5</th>\n",
       "      <td>1461</td>\n",
       "      <td>-22.966311</td>\n",
       "      <td>-24.573507</td>\n",
       "    </tr>\n",
       "    <tr>\n",
       "      <th>...</th>\n",
       "      <th>...</th>\n",
       "      <th>...</th>\n",
       "      <td>...</td>\n",
       "      <td>...</td>\n",
       "      <td>...</td>\n",
       "    </tr>\n",
       "    <tr>\n",
       "      <th rowspan=\"5\" valign=\"top\">364.0</th>\n",
       "      <th rowspan=\"5\" valign=\"top\">89.5</th>\n",
       "      <th>179.5</th>\n",
       "      <td>2191</td>\n",
       "      <td>NaN</td>\n",
       "      <td>NaN</td>\n",
       "    </tr>\n",
       "    <tr>\n",
       "      <th>179.5</th>\n",
       "      <td>2556</td>\n",
       "      <td>NaN</td>\n",
       "      <td>NaN</td>\n",
       "    </tr>\n",
       "    <tr>\n",
       "      <th>179.5</th>\n",
       "      <td>2921</td>\n",
       "      <td>NaN</td>\n",
       "      <td>NaN</td>\n",
       "    </tr>\n",
       "    <tr>\n",
       "      <th>179.5</th>\n",
       "      <td>3287</td>\n",
       "      <td>NaN</td>\n",
       "      <td>NaN</td>\n",
       "    </tr>\n",
       "    <tr>\n",
       "      <th>179.5</th>\n",
       "      <td>3652</td>\n",
       "      <td>NaN</td>\n",
       "      <td>NaN</td>\n",
       "    </tr>\n",
       "  </tbody>\n",
       "</table>\n",
       "<p>236714400 rows × 3 columns</p>\n",
       "</div>"
      ],
      "text/plain": [
       "                               time  temperature  climatology\n",
       "day_number latitude longitude                                \n",
       "0.0        -89.5    -179.5        0   -27.188446   -24.573507\n",
       "                    -179.5      366   -26.214350   -24.573507\n",
       "                    -179.5      731   -23.481075   -24.573507\n",
       "                    -179.5     1096   -25.736414   -24.573507\n",
       "                    -179.5     1461   -22.966311   -24.573507\n",
       "...                             ...          ...          ...\n",
       "364.0       89.5     179.5     2191          NaN          NaN\n",
       "                     179.5     2556          NaN          NaN\n",
       "                     179.5     2921          NaN          NaN\n",
       "                     179.5     3287          NaN          NaN\n",
       "                     179.5     3652          NaN          NaN\n",
       "\n",
       "[236714400 rows x 3 columns]"
      ]
     },
     "execution_count": 25,
     "metadata": {},
     "output_type": "execute_result"
    }
   ],
   "source": [
    "df"
   ]
  },
  {
   "cell_type": "code",
   "execution_count": null,
   "metadata": {},
   "outputs": [],
   "source": []
  }
 ],
 "metadata": {
  "kernelspec": {
   "display_name": "Python 3",
   "language": "python",
   "name": "python3"
  },
  "language_info": {
   "codemirror_mode": {
    "name": "ipython",
    "version": 3
   },
   "file_extension": ".py",
   "mimetype": "text/x-python",
   "name": "python",
   "nbconvert_exporter": "python",
   "pygments_lexer": "ipython3",
   "version": "3.7.1"
  }
 },
 "nbformat": 4,
 "nbformat_minor": 4
}
