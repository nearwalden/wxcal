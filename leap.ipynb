{
 "cells": [
  {
   "cell_type": "code",
   "execution_count": 1,
   "metadata": {},
   "outputs": [],
   "source": [
    "import leap"
   ]
  },
  {
   "cell_type": "code",
   "execution_count": 2,
   "metadata": {},
   "outputs": [],
   "source": [
    "import importlib"
   ]
  },
  {
   "cell_type": "code",
   "execution_count": 11,
   "metadata": {},
   "outputs": [
    {
     "data": {
      "text/plain": [
       "<module 'leap' from '/Users/dd/gitcode/wxcal/leap.py'>"
      ]
     },
     "execution_count": 11,
     "metadata": {},
     "output_type": "execute_result"
    }
   ],
   "source": [
    "importlib.reload(leap)"
   ]
  },
  {
   "cell_type": "code",
   "execution_count": 12,
   "metadata": {},
   "outputs": [
    {
     "name": "stdout",
     "output_type": "stream",
     "text": [
      "[2021-01-11 21:53:15-0500] INFO - prefect.FlowRunner | Beginning Flow run for 'best-monthly-anomaly'\n",
      "[2021-01-11 21:53:15-0500] INFO - prefect.TaskRunner | Task 'load_drop': Starting task run...\n",
      "[2021-01-11 21:53:15-0500] INFO - prefect.TaskRunner | Task 'load_drop': Finished task run for task with final state: 'Success'\n",
      "[2021-01-11 21:53:15-0500] INFO - prefect.TaskRunner | Task 'compute_by_month': Starting task run...\n",
      "[2021-01-11 21:53:15-0500] INFO - prefect.TaskRunner | Task 'compute_by_month': Finished task run for task with final state: 'Success'\n",
      "[2021-01-11 21:53:15-0500] INFO - prefect.TaskRunner | Task 'write_file': Starting task run...\n",
      "[2021-01-11 21:53:15-0500] INFO - prefect.TaskRunner | Task 'write_file': Finished task run for task with final state: 'Success'\n",
      "[2021-01-11 21:53:15-0500] INFO - prefect.FlowRunner | Flow run SUCCESS: all reference tasks succeeded\n"
     ]
    },
    {
     "data": {
      "text/plain": [
       "<Success: \"All reference tasks succeeded.\">"
      ]
     },
     "execution_count": 12,
     "metadata": {},
     "output_type": "execute_result"
    }
   ],
   "source": [
    "leap.flow.run()"
   ]
  },
  {
   "cell_type": "code",
   "execution_count": 4,
   "metadata": {},
   "outputs": [],
   "source": [
    "a = p.read_csv(\"/Volumes/data/temperature/best-monthly/Land_and_Ocean_complete.csv\")"
   ]
  },
  {
   "cell_type": "code",
   "execution_count": 16,
   "metadata": {},
   "outputs": [],
   "source": [
    "ga = a.groupby(['Month', 'Cycle4'])"
   ]
  },
  {
   "cell_type": "code",
   "execution_count": null,
   "metadata": {},
   "outputs": [],
   "source": []
  }
 ],
 "metadata": {
  "kernelspec": {
   "display_name": "Python 3",
   "language": "python",
   "name": "python3"
  },
  "language_info": {
   "codemirror_mode": {
    "name": "ipython",
    "version": 3
   },
   "file_extension": ".py",
   "mimetype": "text/x-python",
   "name": "python",
   "nbconvert_exporter": "python",
   "pygments_lexer": "ipython3",
   "version": "3.7.1"
  }
 },
 "nbformat": 4,
 "nbformat_minor": 4
}
