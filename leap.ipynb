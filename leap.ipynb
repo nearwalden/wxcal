{
 "cells": [
  {
   "cell_type": "code",
   "execution_count": 4,
   "metadata": {},
   "outputs": [],
   "source": [
    "import pandas as p"
   ]
  },
  {
   "cell_type": "code",
   "execution_count": 11,
   "metadata": {},
   "outputs": [],
   "source": [
    "import leapmo"
   ]
  },
  {
   "cell_type": "code",
   "execution_count": 2,
   "metadata": {},
   "outputs": [],
   "source": [
    "import importlib"
   ]
  },
  {
   "cell_type": "code",
   "execution_count": 28,
   "metadata": {},
   "outputs": [
    {
     "data": {
      "text/plain": [
       "<module 'leapmo' from '/mnt/c/Users/nearw/gitcode/wxcal/leapmo.py'>"
      ]
     },
     "execution_count": 28,
     "metadata": {},
     "output_type": "execute_result"
    }
   ],
   "source": [
    "importlib.reload(leapmo)"
   ]
  },
  {
   "cell_type": "code",
   "execution_count": 29,
   "metadata": {},
   "outputs": [
    {
     "data": {
      "text/html": [
       "<div>\n",
       "<style scoped>\n",
       "    .dataframe tbody tr th:only-of-type {\n",
       "        vertical-align: middle;\n",
       "    }\n",
       "\n",
       "    .dataframe tbody tr th {\n",
       "        vertical-align: top;\n",
       "    }\n",
       "\n",
       "    .dataframe thead th {\n",
       "        text-align: right;\n",
       "    }\n",
       "</style>\n",
       "<table border=\"1\" class=\"dataframe\">\n",
       "  <thead>\n",
       "    <tr style=\"text-align: right;\">\n",
       "      <th></th>\n",
       "      <th>Jan</th>\n",
       "      <th>Feb</th>\n",
       "      <th>Mar</th>\n",
       "      <th>Apr</th>\n",
       "      <th>May</th>\n",
       "      <th>Jun</th>\n",
       "      <th>Jul</th>\n",
       "      <th>Aug</th>\n",
       "      <th>Sep</th>\n",
       "      <th>Oct</th>\n",
       "      <th>Nov</th>\n",
       "      <th>Dec</th>\n",
       "    </tr>\n",
       "    <tr>\n",
       "      <th>Year</th>\n",
       "      <th></th>\n",
       "      <th></th>\n",
       "      <th></th>\n",
       "      <th></th>\n",
       "      <th></th>\n",
       "      <th></th>\n",
       "      <th></th>\n",
       "      <th></th>\n",
       "      <th></th>\n",
       "      <th></th>\n",
       "      <th></th>\n",
       "      <th></th>\n",
       "    </tr>\n",
       "  </thead>\n",
       "  <tbody>\n",
       "    <tr>\n",
       "      <th>1850</th>\n",
       "      <td>-0.744</td>\n",
       "      <td>-0.206</td>\n",
       "      <td>-0.398</td>\n",
       "      <td>-0.654</td>\n",
       "      <td>-0.663</td>\n",
       "      <td>-0.362</td>\n",
       "      <td>-0.203</td>\n",
       "      <td>-0.200</td>\n",
       "      <td>-0.459</td>\n",
       "      <td>-0.631</td>\n",
       "      <td>-0.635</td>\n",
       "      <td>-0.414</td>\n",
       "    </tr>\n",
       "    <tr>\n",
       "      <th>1851</th>\n",
       "      <td>-0.212</td>\n",
       "      <td>-0.458</td>\n",
       "      <td>-0.621</td>\n",
       "      <td>-0.649</td>\n",
       "      <td>-0.362</td>\n",
       "      <td>-0.262</td>\n",
       "      <td>-0.230</td>\n",
       "      <td>-0.309</td>\n",
       "      <td>-0.371</td>\n",
       "      <td>-0.127</td>\n",
       "      <td>-0.388</td>\n",
       "      <td>-0.191</td>\n",
       "    </tr>\n",
       "    <tr>\n",
       "      <th>1852</th>\n",
       "      <td>-0.283</td>\n",
       "      <td>-0.556</td>\n",
       "      <td>-0.759</td>\n",
       "      <td>-0.568</td>\n",
       "      <td>-0.190</td>\n",
       "      <td>-0.177</td>\n",
       "      <td>-0.108</td>\n",
       "      <td>-0.400</td>\n",
       "      <td>-0.347</td>\n",
       "      <td>-0.189</td>\n",
       "      <td>-0.566</td>\n",
       "      <td>0.031</td>\n",
       "    </tr>\n",
       "    <tr>\n",
       "      <th>1853</th>\n",
       "      <td>-0.308</td>\n",
       "      <td>-0.460</td>\n",
       "      <td>-0.524</td>\n",
       "      <td>-0.392</td>\n",
       "      <td>-0.304</td>\n",
       "      <td>-0.215</td>\n",
       "      <td>-0.027</td>\n",
       "      <td>-0.135</td>\n",
       "      <td>-0.456</td>\n",
       "      <td>-0.503</td>\n",
       "      <td>-0.699</td>\n",
       "      <td>-0.382</td>\n",
       "    </tr>\n",
       "    <tr>\n",
       "      <th>1854</th>\n",
       "      <td>-0.591</td>\n",
       "      <td>-0.632</td>\n",
       "      <td>-0.305</td>\n",
       "      <td>-0.423</td>\n",
       "      <td>-0.288</td>\n",
       "      <td>-0.490</td>\n",
       "      <td>-0.196</td>\n",
       "      <td>-0.236</td>\n",
       "      <td>-0.285</td>\n",
       "      <td>0.079</td>\n",
       "      <td>-0.281</td>\n",
       "      <td>-0.179</td>\n",
       "    </tr>\n",
       "    <tr>\n",
       "      <th>...</th>\n",
       "      <td>...</td>\n",
       "      <td>...</td>\n",
       "      <td>...</td>\n",
       "      <td>...</td>\n",
       "      <td>...</td>\n",
       "      <td>...</td>\n",
       "      <td>...</td>\n",
       "      <td>...</td>\n",
       "      <td>...</td>\n",
       "      <td>...</td>\n",
       "      <td>...</td>\n",
       "      <td>...</td>\n",
       "    </tr>\n",
       "    <tr>\n",
       "      <th>2016</th>\n",
       "      <td>1.155</td>\n",
       "      <td>1.234</td>\n",
       "      <td>1.248</td>\n",
       "      <td>1.098</td>\n",
       "      <td>0.962</td>\n",
       "      <td>0.762</td>\n",
       "      <td>0.780</td>\n",
       "      <td>0.954</td>\n",
       "      <td>0.832</td>\n",
       "      <td>0.873</td>\n",
       "      <td>0.887</td>\n",
       "      <td>0.888</td>\n",
       "    </tr>\n",
       "    <tr>\n",
       "      <th>2017</th>\n",
       "      <td>0.993</td>\n",
       "      <td>1.063</td>\n",
       "      <td>1.142</td>\n",
       "      <td>0.964</td>\n",
       "      <td>0.923</td>\n",
       "      <td>0.657</td>\n",
       "      <td>0.697</td>\n",
       "      <td>0.791</td>\n",
       "      <td>0.638</td>\n",
       "      <td>0.798</td>\n",
       "      <td>0.744</td>\n",
       "      <td>0.898</td>\n",
       "    </tr>\n",
       "    <tr>\n",
       "      <th>2018</th>\n",
       "      <td>0.770</td>\n",
       "      <td>0.813</td>\n",
       "      <td>0.839</td>\n",
       "      <td>0.910</td>\n",
       "      <td>0.761</td>\n",
       "      <td>0.721</td>\n",
       "      <td>0.729</td>\n",
       "      <td>0.747</td>\n",
       "      <td>0.719</td>\n",
       "      <td>0.905</td>\n",
       "      <td>0.733</td>\n",
       "      <td>0.866</td>\n",
       "    </tr>\n",
       "    <tr>\n",
       "      <th>2019</th>\n",
       "      <td>0.852</td>\n",
       "      <td>0.876</td>\n",
       "      <td>1.131</td>\n",
       "      <td>1.036</td>\n",
       "      <td>0.847</td>\n",
       "      <td>0.813</td>\n",
       "      <td>0.855</td>\n",
       "      <td>0.888</td>\n",
       "      <td>0.845</td>\n",
       "      <td>1.004</td>\n",
       "      <td>0.907</td>\n",
       "      <td>1.057</td>\n",
       "    </tr>\n",
       "    <tr>\n",
       "      <th>2020</th>\n",
       "      <td>1.075</td>\n",
       "      <td>1.116</td>\n",
       "      <td>1.082</td>\n",
       "      <td>1.140</td>\n",
       "      <td>0.967</td>\n",
       "      <td>0.849</td>\n",
       "      <td>0.862</td>\n",
       "      <td>0.860</td>\n",
       "      <td>0.919</td>\n",
       "      <td>0.857</td>\n",
       "      <td>NaN</td>\n",
       "      <td>NaN</td>\n",
       "    </tr>\n",
       "  </tbody>\n",
       "</table>\n",
       "<p>171 rows × 12 columns</p>\n",
       "</div>"
      ],
      "text/plain": [
       "        Jan    Feb    Mar    Apr    May    Jun    Jul    Aug    Sep    Oct  \\\n",
       "Year                                                                         \n",
       "1850 -0.744 -0.206 -0.398 -0.654 -0.663 -0.362 -0.203 -0.200 -0.459 -0.631   \n",
       "1851 -0.212 -0.458 -0.621 -0.649 -0.362 -0.262 -0.230 -0.309 -0.371 -0.127   \n",
       "1852 -0.283 -0.556 -0.759 -0.568 -0.190 -0.177 -0.108 -0.400 -0.347 -0.189   \n",
       "1853 -0.308 -0.460 -0.524 -0.392 -0.304 -0.215 -0.027 -0.135 -0.456 -0.503   \n",
       "1854 -0.591 -0.632 -0.305 -0.423 -0.288 -0.490 -0.196 -0.236 -0.285  0.079   \n",
       "...     ...    ...    ...    ...    ...    ...    ...    ...    ...    ...   \n",
       "2016  1.155  1.234  1.248  1.098  0.962  0.762  0.780  0.954  0.832  0.873   \n",
       "2017  0.993  1.063  1.142  0.964  0.923  0.657  0.697  0.791  0.638  0.798   \n",
       "2018  0.770  0.813  0.839  0.910  0.761  0.721  0.729  0.747  0.719  0.905   \n",
       "2019  0.852  0.876  1.131  1.036  0.847  0.813  0.855  0.888  0.845  1.004   \n",
       "2020  1.075  1.116  1.082  1.140  0.967  0.849  0.862  0.860  0.919  0.857   \n",
       "\n",
       "        Nov    Dec  \n",
       "Year                \n",
       "1850 -0.635 -0.414  \n",
       "1851 -0.388 -0.191  \n",
       "1852 -0.566  0.031  \n",
       "1853 -0.699 -0.382  \n",
       "1854 -0.281 -0.179  \n",
       "...     ...    ...  \n",
       "2016  0.887  0.888  \n",
       "2017  0.744  0.898  \n",
       "2018  0.733  0.866  \n",
       "2019  0.907  1.057  \n",
       "2020    NaN    NaN  \n",
       "\n",
       "[171 rows x 12 columns]"
      ]
     },
     "execution_count": 29,
     "metadata": {},
     "output_type": "execute_result"
    }
   ],
   "source": [
    "leapmo.by_month()"
   ]
  },
  {
   "cell_type": "code",
   "execution_count": 27,
   "metadata": {},
   "outputs": [
    {
     "data": {
      "text/plain": [
       "'nothing'"
      ]
     },
     "execution_count": 27,
     "metadata": {},
     "output_type": "execute_result"
    }
   ],
   "source": [
    "leapmo.MONTHS[0]"
   ]
  },
  {
   "cell_type": "code",
   "execution_count": 7,
   "metadata": {},
   "outputs": [],
   "source": [
    "a = p.read_csv(\"/mnt/c/Users/nearw/data/best-monthly/Land_and_Ocean_complete.csv\")"
   ]
  },
  {
   "cell_type": "code",
   "execution_count": 19,
   "metadata": {},
   "outputs": [
    {
     "data": {
      "text/plain": [
       "range(1, 12)"
      ]
     },
     "execution_count": 19,
     "metadata": {},
     "output_type": "execute_result"
    }
   ],
   "source": [
    "range(1, 12)"
   ]
  },
  {
   "cell_type": "code",
   "execution_count": 21,
   "metadata": {},
   "outputs": [
    {
     "name": "stdout",
     "output_type": "stream",
     "text": [
      "1\n",
      "2\n",
      "3\n",
      "4\n",
      "5\n",
      "6\n",
      "7\n",
      "8\n",
      "9\n",
      "10\n",
      "11\n",
      "12\n"
     ]
    }
   ],
   "source": [
    "for i in range(1, 13):\n",
    "    print(str(i))"
   ]
  },
  {
   "cell_type": "code",
   "execution_count": null,
   "metadata": {},
   "outputs": [],
   "source": []
  }
 ],
 "metadata": {
  "kernelspec": {
   "display_name": "Python 3",
   "language": "python",
   "name": "python3"
  },
  "language_info": {
   "codemirror_mode": {
    "name": "ipython",
    "version": 3
   },
   "file_extension": ".py",
   "mimetype": "text/x-python",
   "name": "python",
   "nbconvert_exporter": "python",
   "pygments_lexer": "ipython3",
   "version": "3.8.5"
  }
 },
 "nbformat": 4,
 "nbformat_minor": 4
}
